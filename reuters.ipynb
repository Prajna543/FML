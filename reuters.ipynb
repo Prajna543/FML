{
  "nbformat": 4,
  "nbformat_minor": 0,
  "metadata": {
    "colab": {
      "provenance": [],
      "authorship_tag": "ABX9TyP7f+Lcl0EHZnsuNsBsoOHJ",
      "include_colab_link": true
    },
    "kernelspec": {
      "name": "python3",
      "display_name": "Python 3"
    },
    "language_info": {
      "name": "python"
    }
  },
  "cells": [
    {
      "cell_type": "markdown",
      "metadata": {
        "id": "view-in-github",
        "colab_type": "text"
      },
      "source": [
        "<a href=\"https://colab.research.google.com/github/Prajna543/FML/blob/main/reuters.ipynb\" target=\"_parent\"><img src=\"https://colab.research.google.com/assets/colab-badge.svg\" alt=\"Open In Colab\"/></a>"
      ]
    },
    {
      "cell_type": "code",
      "execution_count": 1,
      "metadata": {
        "colab": {
          "base_uri": "https://localhost:8080/"
        },
        "id": "pYYMYF4rScws",
        "outputId": "210e5a52-559f-4775-9147-a913e70b36b2"
      },
      "outputs": [
        {
          "output_type": "stream",
          "name": "stderr",
          "text": [
            "[nltk_data] Downloading package reuters to /root/nltk_data...\n"
          ]
        },
        {
          "output_type": "execute_result",
          "data": {
            "text/plain": [
              "True"
            ]
          },
          "metadata": {},
          "execution_count": 1
        }
      ],
      "source": [
        "import nltk\n",
        "nltk.download('reuters')"
      ]
    },
    {
      "cell_type": "code",
      "source": [
        " import nltk\n",
        "nltk.download('punkt')"
      ],
      "metadata": {
        "colab": {
          "base_uri": "https://localhost:8080/"
        },
        "id": "NcpajEDbTNZx",
        "outputId": "0fac5e25-d7b8-45ab-cb4b-9ac93b8b3258"
      },
      "execution_count": 3,
      "outputs": [
        {
          "output_type": "stream",
          "name": "stderr",
          "text": [
            "[nltk_data] Downloading package punkt to /root/nltk_data...\n",
            "[nltk_data]   Unzipping tokenizers/punkt.zip.\n"
          ]
        },
        {
          "output_type": "execute_result",
          "data": {
            "text/plain": [
              "True"
            ]
          },
          "metadata": {},
          "execution_count": 3
        }
      ]
    },
    {
      "cell_type": "code",
      "source": [
        "from nltk.corpus import reuters\n",
        "from nltk import bigrams, trigrams\n",
        "from collections import Counter, defaultdict\n",
        "model = defaultdict(lambda: defaultdict(lambda: 0))\n",
        "for sentence in reuters.sents():\n",
        "    for w1, w2, w3 in trigrams(sentence, pad_right=True, pad_left=True):\n",
        "        model[(w1, w2)][w3] += 1\n",
        "for w1_w2 in model:\n",
        "    total_count = float(sum(model[w1_w2].values()))\n",
        "    for w3 in model[w1_w2]:\n",
        "        model[w1_w2][w3] /= total_count"
      ],
      "metadata": {
        "id": "Nv9NcB7cStSN"
      },
      "execution_count": 4,
      "outputs": []
    },
    {
      "cell_type": "code",
      "source": [
        "dict(model[\"today\",\"the\"])"
      ],
      "metadata": {
        "colab": {
          "base_uri": "https://localhost:8080/"
        },
        "id": "pyil7-QeTU5S",
        "outputId": "21c4db50-420b-4ed2-ef41-8adb73dba7b8"
      },
      "execution_count": 5,
      "outputs": [
        {
          "output_type": "execute_result",
          "data": {
            "text/plain": [
              "{'public': 0.05555555555555555,\n",
              " 'European': 0.05555555555555555,\n",
              " 'Bank': 0.05555555555555555,\n",
              " 'price': 0.1111111111111111,\n",
              " 'emirate': 0.05555555555555555,\n",
              " 'overseas': 0.05555555555555555,\n",
              " 'newspaper': 0.05555555555555555,\n",
              " 'company': 0.16666666666666666,\n",
              " 'Turkish': 0.05555555555555555,\n",
              " 'increase': 0.05555555555555555,\n",
              " 'options': 0.05555555555555555,\n",
              " 'Higher': 0.05555555555555555,\n",
              " 'pound': 0.05555555555555555,\n",
              " 'Italian': 0.05555555555555555,\n",
              " 'time': 0.05555555555555555}"
            ]
          },
          "metadata": {},
          "execution_count": 5
        }
      ]
    },
    {
      "cell_type": "code",
      "source": [
        "\n",
        "dict(model[\"the\",\"price\"])"
      ],
      "metadata": {
        "colab": {
          "base_uri": "https://localhost:8080/"
        },
        "id": "W9NpxaS8TXZU",
        "outputId": "46922abc-3f96-42be-bf8a-fcd780ecd51c"
      },
      "execution_count": 6,
      "outputs": [
        {
          "output_type": "execute_result",
          "data": {
            "text/plain": [
              "{'yesterday': 0.004651162790697674,\n",
              " 'of': 0.3209302325581395,\n",
              " 'it': 0.05581395348837209,\n",
              " 'effect': 0.004651162790697674,\n",
              " 'cut': 0.009302325581395349,\n",
              " 'for': 0.05116279069767442,\n",
              " 'paid': 0.013953488372093023,\n",
              " 'to': 0.05581395348837209,\n",
              " 'increases': 0.013953488372093023,\n",
              " 'used': 0.004651162790697674,\n",
              " 'climate': 0.004651162790697674,\n",
              " '.': 0.023255813953488372,\n",
              " 'cuts': 0.009302325581395349,\n",
              " 'reductions': 0.004651162790697674,\n",
              " 'limit': 0.004651162790697674,\n",
              " 'now': 0.004651162790697674,\n",
              " 'moved': 0.004651162790697674,\n",
              " 'per': 0.013953488372093023,\n",
              " 'adjustments': 0.004651162790697674,\n",
              " '(': 0.009302325581395349,\n",
              " 'slumped': 0.004651162790697674,\n",
              " 'is': 0.018604651162790697,\n",
              " 'move': 0.004651162790697674,\n",
              " 'evolution': 0.004651162790697674,\n",
              " 'differentials': 0.009302325581395349,\n",
              " 'went': 0.004651162790697674,\n",
              " 'the': 0.013953488372093023,\n",
              " 'factor': 0.004651162790697674,\n",
              " 'Royal': 0.004651162790697674,\n",
              " ',': 0.018604651162790697,\n",
              " 'again': 0.004651162790697674,\n",
              " 'changes': 0.004651162790697674,\n",
              " 'holds': 0.004651162790697674,\n",
              " 'has': 0.009302325581395349,\n",
              " 'fall': 0.004651162790697674,\n",
              " '-': 0.004651162790697674,\n",
              " 'from': 0.004651162790697674,\n",
              " 'base': 0.004651162790697674,\n",
              " 'on': 0.004651162790697674,\n",
              " 'review': 0.004651162790697674,\n",
              " 'while': 0.004651162790697674,\n",
              " 'collapse': 0.004651162790697674,\n",
              " 'being': 0.004651162790697674,\n",
              " 'at': 0.023255813953488372,\n",
              " 'outlook': 0.004651162790697674,\n",
              " 'rises': 0.004651162790697674,\n",
              " 'drop': 0.004651162790697674,\n",
              " 'guaranteed': 0.004651162790697674,\n",
              " ',\"': 0.004651162790697674,\n",
              " 'stayed': 0.009302325581395349,\n",
              " 'structure': 0.004651162790697674,\n",
              " 'and': 0.004651162790697674,\n",
              " 'could': 0.004651162790697674,\n",
              " 'related': 0.004651162790697674,\n",
              " 'hike': 0.004651162790697674,\n",
              " 'we': 0.004651162790697674,\n",
              " 'adjustment': 0.023255813953488372,\n",
              " 'policy': 0.004651162790697674,\n",
              " 'was': 0.009302325581395349,\n",
              " 'revision': 0.004651162790697674,\n",
              " 'freeze': 0.009302325581395349,\n",
              " 'led': 0.004651162790697674,\n",
              " 'action': 0.004651162790697674,\n",
              " 'zone': 0.004651162790697674,\n",
              " 'slump': 0.004651162790697674,\n",
              " 'had': 0.004651162790697674,\n",
              " 'difference': 0.004651162790697674,\n",
              " 'in': 0.004651162790697674,\n",
              " 'raise': 0.004651162790697674,\n",
              " 'increase': 0.009302325581395349,\n",
              " 'will': 0.013953488372093023,\n",
              " 'support': 0.004651162790697674,\n",
              " 'gap': 0.004651162790697674,\n",
              " 'would': 0.009302325581395349,\n",
              " 'projected': 0.004651162790697674,\n",
              " 'approached': 0.004651162790697674,\n",
              " 'instability': 0.004651162790697674}"
            ]
          },
          "metadata": {},
          "execution_count": 6
        }
      ]
    }
  ]
}