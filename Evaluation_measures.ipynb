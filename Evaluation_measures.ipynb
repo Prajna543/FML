{
  "nbformat": 4,
  "nbformat_minor": 0,
  "metadata": {
    "colab": {
      "provenance": [],
      "authorship_tag": "ABX9TyOZvJj7ph3eTA8NzTEg+s+E",
      "include_colab_link": true
    },
    "kernelspec": {
      "name": "python3",
      "display_name": "Python 3"
    },
    "language_info": {
      "name": "python"
    }
  },
  "cells": [
    {
      "cell_type": "markdown",
      "metadata": {
        "id": "view-in-github",
        "colab_type": "text"
      },
      "source": [
        "<a href=\"https://colab.research.google.com/github/Prajna543/FML/blob/main/Evaluation_measures.ipynb\" target=\"_parent\"><img src=\"https://colab.research.google.com/assets/colab-badge.svg\" alt=\"Open In Colab\"/></a>"
      ]
    },
    {
      "cell_type": "code",
      "execution_count": 2,
      "metadata": {
        "colab": {
          "base_uri": "https://localhost:8080/"
        },
        "id": "kdt4fRQUsnbH",
        "outputId": "b4abfdfd-b752-4964-ab65-f76290e70623"
      },
      "outputs": [
        {
          "output_type": "stream",
          "name": "stdout",
          "text": [
            "1.0\n"
          ]
        }
      ],
      "source": [
        "from sklearn.metrics import mean_absolute_error\n",
        "y=[1,2,3,4]\n",
        "y_pred=[1,1,2,2]\n",
        "mae=mean_absolute_error(y,y_pred)\n",
        "print(mae)"
      ]
    },
    {
      "cell_type": "code",
      "source": [
        "from sklearn.metrics import mean_squared_error\n",
        "y=[1,2,3,4]\n",
        "y_pred=[1,1,2,2]\n",
        "mse=mean_squared_error(y,y_pred)\n",
        "print(mse)"
      ],
      "metadata": {
        "colab": {
          "base_uri": "https://localhost:8080/"
        },
        "id": "4pd4MI_JtZ8Y",
        "outputId": "dbc7c18c-8a87-4648-dfa2-48fcca0efc3b"
      },
      "execution_count": 3,
      "outputs": [
        {
          "output_type": "stream",
          "name": "stdout",
          "text": [
            "1.5\n"
          ]
        }
      ]
    },
    {
      "cell_type": "code",
      "source": [
        "from sklearn.metrics import mean_squared_error\n",
        "y=[1,2,3,4]\n",
        "y_pred=[1,1,2,2]\n",
        "import numpy as np\n",
        "rmse=np.sqrt(mean_squared_error(y,y_pred))\n",
        "print(rmse)"
      ],
      "metadata": {
        "colab": {
          "base_uri": "https://localhost:8080/"
        },
        "id": "YfK4OGy_tzx4",
        "outputId": "d8705708-525a-42be-9737-5e11efa1014a"
      },
      "execution_count": 5,
      "outputs": [
        {
          "output_type": "stream",
          "name": "stdout",
          "text": [
            "1.224744871391589\n"
          ]
        }
      ]
    },
    {
      "cell_type": "code",
      "source": [
        "from sklearn.metrics import r2_score\n",
        "y=[1,2,3,4]\n",
        "y_pred=[1,1,2,3]\n",
        "r2score=r2_score(y,y_pred)\n",
        "print(r2score)\n",
        "print(r2_score([1,2,3],[1,2,3]))"
      ],
      "metadata": {
        "colab": {
          "base_uri": "https://localhost:8080/"
        },
        "id": "B_wS_q55uaDv",
        "outputId": "84eff2df-1462-4335-d92b-f23b6b9819d0"
      },
      "execution_count": 7,
      "outputs": [
        {
          "output_type": "stream",
          "name": "stdout",
          "text": [
            "0.4\n",
            "1.0\n"
          ]
        }
      ]
    }
  ]
}